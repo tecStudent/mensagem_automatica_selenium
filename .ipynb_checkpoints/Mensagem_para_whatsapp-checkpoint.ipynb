{
 "cells": [
  {
   "cell_type": "code",
   "execution_count": 13,
   "id": "5b3be9af",
   "metadata": {},
   "outputs": [
    {
     "name": "stderr",
     "output_type": "stream",
     "text": [
      "C:\\Users\\PEDROM~1\\AppData\\Local\\Temp/ipykernel_8568/2077708684.py:9: DeprecationWarning: find_elements_by_* commands are deprecated. Please use find_elements() instead\n",
      "  while len(navegador.find_elements_by_id('side')) < 1:\n"
     ]
    },
    {
     "name": "stdout",
     "output_type": "stream",
     "text": [
      "Digite sua mensagemEssa é uma mensagem de teste!\n"
     ]
    },
    {
     "name": "stderr",
     "output_type": "stream",
     "text": [
      "C:\\Users\\PEDROM~1\\AppData\\Local\\Temp/ipykernel_8568/2077708684.py:23: DeprecationWarning: find_element_by_* commands are deprecated. Please use find_element() instead\n",
      "  navegador.find_element_by_xpath('//*[@id=\"main\"]/footer/div[1]/div/span[2]/div/div[2]/div[1]/div').send_keys(Keys.ENTER)\n"
     ]
    }
   ],
   "source": [
    "from selenium import webdriver\n",
    "from selenium.webdriver.common.keys import Keys\n",
    "import time\n",
    "import urllib\n",
    "\n",
    "navegador = webdriver.Chrome()\n",
    "navegador.get('https://web.whatsapp.com/')\n",
    "\n",
    "while len(navegador.find_elements_by_id('side')) < 1:\n",
    "    time.sleep(1)\n",
    "\n",
    "mensagem = input('Digite sua mensagem: ')\n",
    "nome = 'Joao'\n",
    "numero = '551111112222'\n",
    "texto = urllib.parse.quote(f'Olá {nome} {mensagem}')\n",
    "link = f'https://web.whatsapp.com/send?phone={numero}&text={texto}'\n",
    "\n",
    "navegador.get(link)\n",
    "\n",
    "time.sleep(10)\n",
    "\n",
    "\n",
    "navegador.find_element_by_xpath('//*[@id=\"main\"]/footer/div[1]/div/span[2]/div/div[2]/div[1]/div').send_keys(Keys.ENTER)\n",
    "\n",
    "\n"
   ]
  },
  {
   "cell_type": "code",
   "execution_count": null,
   "id": "71f631eb",
   "metadata": {},
   "outputs": [],
   "source": []
  }
 ],
 "metadata": {
  "kernelspec": {
   "display_name": "Python 3 (ipykernel)",
   "language": "python",
   "name": "python3"
  },
  "language_info": {
   "codemirror_mode": {
    "name": "ipython",
    "version": 3
   },
   "file_extension": ".py",
   "mimetype": "text/x-python",
   "name": "python",
   "nbconvert_exporter": "python",
   "pygments_lexer": "ipython3",
   "version": "3.9.7"
  }
 },
 "nbformat": 4,
 "nbformat_minor": 5
}
